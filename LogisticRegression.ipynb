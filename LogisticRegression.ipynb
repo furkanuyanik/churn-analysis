{
  "nbformat": 4,
  "nbformat_minor": 0,
  "metadata": {
    "colab": {
      "name": "LogisticRegression.ipynb",
      "provenance": [],
      "collapsed_sections": [],
      "authorship_tag": "ABX9TyOvTjQYKSgXiobrkAxgn0Nq",
      "include_colab_link": true
    },
    "kernelspec": {
      "name": "python3",
      "display_name": "Python 3"
    }
  },
  "cells": [
    {
      "cell_type": "markdown",
      "metadata": {
        "id": "view-in-github",
        "colab_type": "text"
      },
      "source": [
        "<a href=\"https://colab.research.google.com/github/furkanuyanik/churn-analysis/blob/master/LogisticRegression.ipynb\" target=\"_parent\"><img src=\"https://colab.research.google.com/assets/colab-badge.svg\" alt=\"Open In Colab\"/></a>"
      ]
    },
    {
      "cell_type": "code",
      "metadata": {
        "id": "DamYHvm87kv1",
        "colab_type": "code",
        "colab": {}
      },
      "source": [
        "import pandas as pd\n",
        "import numpy as np\n",
        "\n",
        "from sklearn import preprocessing\n",
        "from sklearn.linear_model import LogisticRegression\n",
        "from sklearn.model_selection import train_test_split\n",
        "\n",
        "import seaborn as sns\n",
        "sns.set(style=\"white\")\n",
        "sns.set(style=\"whitegrid\", color_codes=True)\n",
        "\n",
        "import matplotlib.pyplot as plt \n",
        "plt.rc(\"font\", size=14)"
      ],
      "execution_count": 0,
      "outputs": []
    },
    {
      "cell_type": "code",
      "metadata": {
        "id": "xqdCAEGgLkdt",
        "colab_type": "code",
        "colab": {}
      },
      "source": [
        "data = pd.read_csv('./churn.csv', header = 0)\n",
        "data = data.dropna();\n",
        "\n",
        "customerId = data['customerID']\n",
        "del data['customerID']"
      ],
      "execution_count": 0,
      "outputs": []
    },
    {
      "cell_type": "code",
      "metadata": {
        "id": "SpyUxrWAKJ74",
        "colab_type": "code",
        "colab": {}
      },
      "source": [
        "yes_no_columns = ['Partner', 'Dependents', 'PhoneService', 'PaperlessBilling', 'Churn', 'OnlineSecurity', 'OnlineBackup', 'DeviceProtection', 'TechSupport','StreamingTV', 'StreamingMovies', 'MultipleLines' ];\n",
        "\n",
        "for item in yes_no_columns:\n",
        "    data[item].replace(to_replace='Yes', value=1, inplace=True);\n",
        "    data[item].replace(to_replace='No',  value=0, inplace=True);\n",
        "    data[item].replace(to_replace='No phone service',  value=0, inplace=True);\n",
        "    data[item].replace(to_replace='No internet service',  value=0, inplace=True);\n",
        "\n",
        "empty_columns = ['TotalCharges'];\n",
        "\n",
        "for column in empty_columns:\n",
        "    data[column].replace(to_replace=' ', value=np.nan, inplace=True);\n",
        "    data = data.dropna(axis=0, subset=[column])\n",
        "\n",
        "data[\"TotalCharges\"] = data[\"TotalCharges\"].astype(float)"
      ],
      "execution_count": 0,
      "outputs": []
    },
    {
      "cell_type": "code",
      "metadata": {
        "id": "iCScYrMh9WaL",
        "colab_type": "code",
        "colab": {}
      },
      "source": [
        "# customerID: Müşteri Kimliği\n",
        "# gender: Cinsiyet\n",
        "# SeniorCitizen: Yaşlı mı?\n",
        "# Partner: ?\n",
        "# Dependents: ?\n",
        "# tenure: Kullanım Süresi\n",
        "# PhoneService: Telefon Hizmeti\n",
        "# MultipleLines: ? (Sanırım konferans yapabiliyor mu?)\n",
        "# InternetService: İnternet Servisi\n",
        "# OnlineSecurity: Çevrimiçi Güvenlik Hizmeti\n",
        "# OnlineBackup: Çevrimiçi Yedekleme Hizmeti\n",
        "# DeviceProtection: Cihaz Koruma Hizmeti\n",
        "# TechSupport: Teknik Destek\n",
        "# StreamingTV: TV Hizmeti\n",
        "# StreamingMovies: Film Hizmeti\n",
        "# Contract: Sözleşme\n",
        "# PaperlessBilling: E-Fatura Hizmeti\n",
        "# PaymentMethod: Ödeme Şekli\n",
        "# MonthlyCharges: Aylık Ücret\n",
        "# TotalCharges: Toplam Ücret\n",
        "# Churn: Çıktı\n",
        "\n",
        "for column in data.columns:\n",
        "  print(\"Column: \", column, data[column].value_counts().keys().tolist())"
      ],
      "execution_count": 0,
      "outputs": []
    },
    {
      "cell_type": "code",
      "metadata": {
        "id": "Ml9KrvMWFktq",
        "colab_type": "code",
        "colab": {}
      },
      "source": [
        "for column in ['Partner', 'Dependents', 'PhoneService', 'PaperlessBilling', 'Churn', 'OnlineSecurity', 'OnlineBackup', 'DeviceProtection', 'TechSupport','StreamingTV', 'StreamingMovies', 'MultipleLines']:\n",
        "  print(\"Column: \", column, \"\\n\\n\", data.groupby(column).mean(), \"\\n\\n\\n\\n\")"
      ],
      "execution_count": 0,
      "outputs": []
    },
    {
      "cell_type": "code",
      "metadata": {
        "id": "n13hOZThfl8u",
        "colab_type": "code",
        "colab": {}
      },
      "source": [
        "data.info()"
      ],
      "execution_count": 0,
      "outputs": []
    }
  ]
}