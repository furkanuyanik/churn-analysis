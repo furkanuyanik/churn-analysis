{
  "nbformat": 4,
  "nbformat_minor": 0,
  "metadata": {
    "colab": {
      "name": "LogisticRegression.ipynb",
      "provenance": [],
      "collapsed_sections": [],
      "toc_visible": true,
      "authorship_tag": "ABX9TyMmeyFfT/2mIztWrHH32Thr",
      "include_colab_link": true
    },
    "kernelspec": {
      "name": "python3",
      "display_name": "Python 3"
    }
  },
  "cells": [
    {
      "cell_type": "markdown",
      "metadata": {
        "id": "view-in-github",
        "colab_type": "text"
      },
      "source": [
        "<a href=\"https://colab.research.google.com/github/furkanuyanik/churn-analysis/blob/master/LogisticRegression.ipynb\" target=\"_parent\"><img src=\"https://colab.research.google.com/assets/colab-badge.svg\" alt=\"Open In Colab\"/></a>"
      ]
    },
    {
      "cell_type": "code",
      "metadata": {
        "id": "DamYHvm87kv1",
        "colab_type": "code",
        "colab": {}
      },
      "source": [
        "import pandas as pd\n",
        "import numpy as np\n",
        "\n",
        "from sklearn import preprocessing\n",
        "from sklearn.linear_model import LogisticRegression\n",
        "from sklearn.model_selection import train_test_split\n",
        "\n",
        "import seaborn as sns\n",
        "sns.set(style=\"white\")\n",
        "sns.set(style=\"whitegrid\", color_codes=True)\n",
        "\n",
        "import matplotlib.pyplot as plt \n",
        "plt.rc(\"font\", size=14)"
      ],
      "execution_count": 0,
      "outputs": []
    },
    {
      "cell_type": "code",
      "metadata": {
        "id": "xqdCAEGgLkdt",
        "colab_type": "code",
        "colab": {}
      },
      "source": [
        "data = pd.read_csv('./churn.csv', header = 0)\n",
        "data = data.dropna();\n",
        "\n",
        "customerId = data['customerID']\n",
        "del data['customerID']"
      ],
      "execution_count": 0,
      "outputs": []
    },
    {
      "cell_type": "code",
      "metadata": {
        "id": "SpyUxrWAKJ74",
        "colab_type": "code",
        "colab": {}
      },
      "source": [
        "yes_no_columns = ['Partner', 'Dependents', 'PhoneService', 'PaperlessBilling', 'Churn', 'OnlineSecurity', 'OnlineBackup', 'DeviceProtection', 'TechSupport','StreamingTV', 'StreamingMovies', 'MultipleLines' ];\n",
        "\n",
        "for item in yes_no_columns:\n",
        "    data[item].replace(to_replace='Yes', value=1, inplace=True);\n",
        "    data[item].replace(to_replace='No',  value=0, inplace=True);\n",
        "    data[item].replace(to_replace='No phone service',  value=0, inplace=True);\n",
        "    data[item].replace(to_replace='No internet service',  value=0, inplace=True);\n",
        "\n",
        "empty_columns = ['TotalCharges'];\n",
        "\n",
        "for column in empty_columns:\n",
        "    data[column].replace(to_replace=' ', value=np.nan, inplace=True);\n",
        "    data = data.dropna(axis=0, subset=[column])\n",
        "\n",
        "data[\"TotalCharges\"] = data[\"TotalCharges\"].astype(float)\n",
        "data['PaymentMethod']=np.where(data['PaymentMethod'] == 'Bank transfer (automatic)', 'Basic', data['PaymentMethod'])\n",
        "data['PaymentMethod']=np.where(data['PaymentMethod'] == 'Credit card (automatic)', 'Basic', data['PaymentMethod'])"
      ],
      "execution_count": 0,
      "outputs": []
    },
    {
      "cell_type": "code",
      "metadata": {
        "id": "KG7cAexrKJdN",
        "colab_type": "code",
        "colab": {}
      },
      "source": [
        "numeric_data = pd.get_dummies(data)\n",
        "numeric_data.fillna(value=0, inplace=True)"
      ],
      "execution_count": 0,
      "outputs": []
    },
    {
      "cell_type": "code",
      "metadata": {
        "id": "_ZqhyEkbLqty",
        "colab_type": "code",
        "colab": {}
      },
      "source": [
        "df = pd.DataFrame(numeric_data)\n",
        "corr = df.corr()\n",
        "corr.style.background_gradient(cmap='coolwarm')"
      ],
      "execution_count": 0,
      "outputs": []
    },
    {
      "cell_type": "code",
      "metadata": {
        "id": "iCScYrMh9WaL",
        "colab_type": "code",
        "colab": {}
      },
      "source": [
        "# customerID: Müşteri Kimliği\n",
        "# gender: Cinsiyet\n",
        "# SeniorCitizen: Yaşlı mı?\n",
        "# Partner: ?\n",
        "# Dependents: ?\n",
        "# tenure: Kullanım Süresi\n",
        "# PhoneService: Telefon Hizmeti\n",
        "# MultipleLines: ? (Sanırım konferans yapabiliyor mu?)\n",
        "# InternetService: İnternet Servisi\n",
        "# OnlineSecurity: Çevrimiçi Güvenlik Hizmeti\n",
        "# OnlineBackup: Çevrimiçi Yedekleme Hizmeti\n",
        "# DeviceProtection: Cihaz Koruma Hizmeti\n",
        "# TechSupport: Teknik Destek\n",
        "# StreamingTV: TV Hizmeti\n",
        "# StreamingMovies: Film Hizmeti\n",
        "# Contract: Sözleşme\n",
        "# PaperlessBilling: E-Fatura Hizmeti\n",
        "# PaymentMethod: Ödeme Şekli\n",
        "# MonthlyCharges: Aylık Ücret\n",
        "# TotalCharges: Toplam Ücret\n",
        "# Churn: Çıktı\n",
        "\n",
        "for column in numeric_data.columns:\n",
        "  print(\"Column: \", column, numeric_data[column].value_counts().keys().tolist())"
      ],
      "execution_count": 0,
      "outputs": []
    },
    {
      "cell_type": "code",
      "metadata": {
        "id": "Ml9KrvMWFktq",
        "colab_type": "code",
        "colab": {}
      },
      "source": [
        "for column in numeric_data.columns.tolist():\n",
        "  print(\"Column: \", column, \"\\n\\n\", numeric_data.groupby(column).mean(), \"\\n\\n\\n\\n\")"
      ],
      "execution_count": 0,
      "outputs": []
    },
    {
      "cell_type": "code",
      "metadata": {
        "id": "u5KZEeKeSf3T",
        "colab_type": "code",
        "outputId": "1a141025-790f-4206-89fc-76b29bd0d7f4",
        "colab": {
          "base_uri": "https://localhost:8080/",
          "height": 853
        }
      },
      "source": [
        "X = numeric_data.loc[:, numeric_data.columns != 'Churn']\n",
        "y = numeric_data.loc[:, numeric_data.columns == 'Churn']\n",
        "\n",
        "from imblearn.over_sampling import SMOTE\n",
        "os = SMOTE(random_state=0)\n",
        "X_train, X_test, y_train, y_test = train_test_split(X, y, test_size=0.3, random_state=0)\n",
        "columns = X_train.columns\n",
        "os_data_X,os_data_y=os.fit_sample(X_train, y_train)\n",
        "os_data_X = pd.DataFrame(data=os_data_X,columns=columns )\n",
        "os_data_y= pd.DataFrame(data=os_data_y,columns=['Churn'])\n",
        "\n",
        "from sklearn.feature_selection import RFE\n",
        "from sklearn.linear_model import LogisticRegression\n",
        "logreg = LogisticRegression()\n",
        "rfe = RFE(logreg, 20)\n",
        "rfe = rfe.fit(os_data_X, os_data_y.values.ravel())\n",
        "print(rfe.support_)\n",
        "print(rfe.ranking_)"
      ],
      "execution_count": 0,
      "outputs": [
        {
          "output_type": "stream",
          "text": [
            "/usr/local/lib/python3.6/dist-packages/sklearn/utils/validation.py:760: DataConversionWarning: A column-vector y was passed when a 1d array was expected. Please change the shape of y to (n_samples, ), for example using ravel().\n",
            "  y = column_or_1d(y, warn=True)\n",
            "/usr/local/lib/python3.6/dist-packages/sklearn/utils/deprecation.py:87: FutureWarning: Function safe_indexing is deprecated; safe_indexing is deprecated in version 0.22 and will be removed in version 0.24.\n",
            "  warnings.warn(msg, category=FutureWarning)\n",
            "/usr/local/lib/python3.6/dist-packages/sklearn/linear_model/_logistic.py:940: ConvergenceWarning: lbfgs failed to converge (status=1):\n",
            "STOP: TOTAL NO. of ITERATIONS REACHED LIMIT.\n",
            "\n",
            "Increase the number of iterations (max_iter) or scale the data as shown in:\n",
            "    https://scikit-learn.org/stable/modules/preprocessing.html\n",
            "Please also refer to the documentation for alternative solver options:\n",
            "    https://scikit-learn.org/stable/modules/linear_model.html#logistic-regression\n",
            "  extra_warning_msg=_LOGISTIC_SOLVER_CONVERGENCE_MSG)\n",
            "/usr/local/lib/python3.6/dist-packages/sklearn/linear_model/_logistic.py:940: ConvergenceWarning: lbfgs failed to converge (status=1):\n",
            "STOP: TOTAL NO. of ITERATIONS REACHED LIMIT.\n",
            "\n",
            "Increase the number of iterations (max_iter) or scale the data as shown in:\n",
            "    https://scikit-learn.org/stable/modules/preprocessing.html\n",
            "Please also refer to the documentation for alternative solver options:\n",
            "    https://scikit-learn.org/stable/modules/linear_model.html#logistic-regression\n",
            "  extra_warning_msg=_LOGISTIC_SOLVER_CONVERGENCE_MSG)\n",
            "/usr/local/lib/python3.6/dist-packages/sklearn/linear_model/_logistic.py:940: ConvergenceWarning: lbfgs failed to converge (status=1):\n",
            "STOP: TOTAL NO. of ITERATIONS REACHED LIMIT.\n",
            "\n",
            "Increase the number of iterations (max_iter) or scale the data as shown in:\n",
            "    https://scikit-learn.org/stable/modules/preprocessing.html\n",
            "Please also refer to the documentation for alternative solver options:\n",
            "    https://scikit-learn.org/stable/modules/linear_model.html#logistic-regression\n",
            "  extra_warning_msg=_LOGISTIC_SOLVER_CONVERGENCE_MSG)\n",
            "/usr/local/lib/python3.6/dist-packages/sklearn/linear_model/_logistic.py:940: ConvergenceWarning: lbfgs failed to converge (status=1):\n",
            "STOP: TOTAL NO. of ITERATIONS REACHED LIMIT.\n",
            "\n",
            "Increase the number of iterations (max_iter) or scale the data as shown in:\n",
            "    https://scikit-learn.org/stable/modules/preprocessing.html\n",
            "Please also refer to the documentation for alternative solver options:\n",
            "    https://scikit-learn.org/stable/modules/linear_model.html#logistic-regression\n",
            "  extra_warning_msg=_LOGISTIC_SOLVER_CONVERGENCE_MSG)\n"
          ],
          "name": "stderr"
        },
        {
          "output_type": "stream",
          "text": [
            "[ True False  True  True  True  True  True  True False  True  True  True\n",
            "  True False False False  True  True  True  True  True False  True  True\n",
            "  True  True]\n",
            "[1 3 1 1 1 1 1 1 6 1 1 1 1 5 7 2 1 1 1 1 1 4 1 1 1 1]\n"
          ],
          "name": "stdout"
        },
        {
          "output_type": "stream",
          "text": [
            "/usr/local/lib/python3.6/dist-packages/sklearn/linear_model/_logistic.py:940: ConvergenceWarning: lbfgs failed to converge (status=1):\n",
            "STOP: TOTAL NO. of ITERATIONS REACHED LIMIT.\n",
            "\n",
            "Increase the number of iterations (max_iter) or scale the data as shown in:\n",
            "    https://scikit-learn.org/stable/modules/preprocessing.html\n",
            "Please also refer to the documentation for alternative solver options:\n",
            "    https://scikit-learn.org/stable/modules/linear_model.html#logistic-regression\n",
            "  extra_warning_msg=_LOGISTIC_SOLVER_CONVERGENCE_MSG)\n"
          ],
          "name": "stderr"
        }
      ]
    },
    {
      "cell_type": "code",
      "metadata": {
        "id": "cpaDo-yRjJyW",
        "colab_type": "code",
        "outputId": "5e7eaa3b-fc90-43aa-af61-3b84ee7a5e36",
        "colab": {
          "base_uri": "https://localhost:8080/",
          "height": 697
        }
      },
      "source": [
        "cols=['SeniorCitizen', 'Dependents', 'tenure', 'PhoneService', 'MultipleLines', 'OnlineSecurity', 'OnlineBackup', 'TechSupport', 'StreamingTV', 'StreamingMovies', 'PaperlessBilling', 'gender_Male', 'InternetService_DSL', 'InternetService_Fiber optic', 'InternetService_No', 'Contract_Month-to-month', 'Contract_Two year', 'PaymentMethod_Basic', 'PaymentMethod_Electronic check', 'PaymentMethod_Mailed check']\n",
        "X=os_data_X[cols]\n",
        "y=os_data_y['Churn']\n",
        "\n",
        "import statsmodels.api as sm\n",
        "logit_model=sm.Logit(y,X)\n",
        "result=logit_model.fit()\n",
        "print(result.summary2())"
      ],
      "execution_count": 0,
      "outputs": [
        {
          "output_type": "stream",
          "text": [
            "Warning: Maximum number of iterations has been exceeded.\n",
            "         Current function value: 0.469928\n",
            "         Iterations: 35\n",
            "                                        Results: Logit\n",
            "==============================================================================================\n",
            "Model:                        Logit                      Pseudo R-squared:           0.322    \n",
            "Dependent Variable:           Churn                      AIC:                        6820.0054\n",
            "Date:                         2020-03-27 20:00           BIC:                        6950.8025\n",
            "No. Observations:             7216                       Log-Likelihood:             -3391.0  \n",
            "Df Model:                     18                         LL-Null:                    -5001.8  \n",
            "Df Residuals:                 7197                       LLR p-value:                0.0000   \n",
            "Converged:                    0.0000                     Scale:                      1.0000   \n",
            "No. Iterations:               35.0000                                                         \n",
            "----------------------------------------------------------------------------------------------\n",
            "                                Coef.    Std.Err.      z     P>|z|      [0.025       0.975]   \n",
            "----------------------------------------------------------------------------------------------\n",
            "SeniorCitizen                   0.3212       0.0880   3.6502 0.0003        0.1488       0.4937\n",
            "Dependents                     -0.2280       0.0770  -2.9598 0.0031       -0.3789      -0.0770\n",
            "tenure                         -0.0356       0.0022 -16.2467 0.0000       -0.0399      -0.0313\n",
            "PhoneService                   -0.4170       0.1209  -3.4488 0.0006       -0.6541      -0.1800\n",
            "MultipleLines                   0.3650       0.0793   4.6048 0.0000        0.2096       0.5203\n",
            "OnlineSecurity                 -0.2791       0.0797  -3.5017 0.0005       -0.4353      -0.1229\n",
            "OnlineBackup                   -0.1691       0.0760  -2.2263 0.0260       -0.3180      -0.0202\n",
            "TechSupport                    -0.3909       0.0819  -4.7744 0.0000       -0.5513      -0.2304\n",
            "StreamingTV                     0.3197       0.0809   3.9508 0.0001        0.1611       0.4783\n",
            "StreamingMovies                 0.4425       0.0809   5.4678 0.0000        0.2839       0.6011\n",
            "PaperlessBilling                0.4248       0.0713   5.9544 0.0000        0.2850       0.5646\n",
            "gender_Male                     0.0683       0.0637   1.0726 0.2835       -0.0565       0.1931\n",
            "InternetService_DSL            -0.1250 2388760.4061  -0.0000 1.0000 -4681884.4888 4681884.2387\n",
            "InternetService_Fiber optic     0.8851 2388760.4061   0.0000 1.0000 -4681883.4787 4681885.2488\n",
            "InternetService_No             -0.7781 2388760.4061  -0.0000 1.0000 -4681885.1418 4681883.5857\n",
            "Contract_Month-to-month         0.6974       0.0966   7.2202 0.0000        0.5081       0.8868\n",
            "Contract_Two year              -0.6742       0.1404  -4.8022 0.0000       -0.9493      -0.3990\n",
            "PaymentMethod_Basic            -0.2340 2388760.4061  -0.0000 1.0000 -4681884.5978 4681884.1297\n",
            "PaymentMethod_Electronic check  0.2769 2388760.4061   0.0000 1.0000 -4681884.0868 4681884.6406\n",
            "PaymentMethod_Mailed check     -0.0609 2388760.4061  -0.0000 1.0000 -4681884.4247 4681884.3028\n",
            "==============================================================================================\n",
            "\n"
          ],
          "name": "stdout"
        },
        {
          "output_type": "stream",
          "text": [
            "/usr/local/lib/python3.6/dist-packages/statsmodels/base/model.py:512: ConvergenceWarning: Maximum Likelihood optimization failed to converge. Check mle_retvals\n",
            "  \"Check mle_retvals\", ConvergenceWarning)\n"
          ],
          "name": "stderr"
        }
      ]
    },
    {
      "cell_type": "code",
      "metadata": {
        "id": "UEF4KlSClajm",
        "colab_type": "code",
        "outputId": "b7d81698-05ce-4685-f340-983043a22d2b",
        "colab": {
          "base_uri": "https://localhost:8080/",
          "height": 561
        }
      },
      "source": [
        "cols=['SeniorCitizen', 'Dependents', 'tenure', 'PhoneService', 'MultipleLines', 'OnlineSecurity', 'OnlineBackup', 'TechSupport', 'StreamingTV', 'StreamingMovies', 'PaperlessBilling', 'gender_Male', 'Contract_Month-to-month', 'Contract_Two year']\n",
        "X=os_data_X[cols]\n",
        "y=os_data_y['Churn']\n",
        "\n",
        "import statsmodels.api as sm\n",
        "logit_model=sm.Logit(y,X)\n",
        "result=logit_model.fit()\n",
        "print(result.summary2())"
      ],
      "execution_count": 0,
      "outputs": [
        {
          "output_type": "stream",
          "text": [
            "Optimization terminated successfully.\n",
            "         Current function value: 0.496826\n",
            "         Iterations 7\n",
            "                             Results: Logit\n",
            "========================================================================\n",
            "Model:                  Logit              Pseudo R-squared:   0.283    \n",
            "Dependent Variable:     Churn              AIC:                7198.1947\n",
            "Date:                   2020-03-27 20:02   BIC:                7294.5714\n",
            "No. Observations:       7216               Log-Likelihood:     -3585.1  \n",
            "Df Model:               13                 LL-Null:            -5001.8  \n",
            "Df Residuals:           7202               LLR p-value:        0.0000   \n",
            "Converged:              1.0000             Scale:              1.0000   \n",
            "No. Iterations:         7.0000                                          \n",
            "------------------------------------------------------------------------\n",
            "                         Coef.  Std.Err.    z     P>|z|   [0.025  0.975]\n",
            "------------------------------------------------------------------------\n",
            "SeniorCitizen            0.5310   0.0849   6.2525 0.0000  0.3645  0.6974\n",
            "Dependents              -0.3767   0.0729  -5.1668 0.0000 -0.5196 -0.2338\n",
            "tenure                  -0.0391   0.0020 -19.8973 0.0000 -0.0429 -0.0352\n",
            "PhoneService            -0.4548   0.0812  -5.6027 0.0000 -0.6139 -0.2957\n",
            "MultipleLines            0.7362   0.0732  10.0546 0.0000  0.5927  0.8797\n",
            "OnlineSecurity          -0.2986   0.0758  -3.9390 0.0001 -0.4472 -0.1500\n",
            "OnlineBackup            -0.0299   0.0738  -0.4048 0.6856 -0.1744  0.1147\n",
            "TechSupport             -0.4859   0.0787  -6.1743 0.0000 -0.6401 -0.3316\n",
            "StreamingTV              0.6212   0.0769   8.0820 0.0000  0.4706  0.7719\n",
            "StreamingMovies          0.6823   0.0769   8.8691 0.0000  0.5315  0.8331\n",
            "PaperlessBilling         0.6414   0.0659   9.7318 0.0000  0.5122  0.7706\n",
            "gender_Male             -0.0269   0.0599  -0.4492 0.6533 -0.1443  0.0905\n",
            "Contract_Month-to-month  0.7597   0.0723  10.5061 0.0000  0.6180  0.9014\n",
            "Contract_Two year       -1.0354   0.1340  -7.7262 0.0000 -1.2981 -0.7728\n",
            "========================================================================\n",
            "\n"
          ],
          "name": "stdout"
        }
      ]
    },
    {
      "cell_type": "code",
      "metadata": {
        "id": "WLuPlnS9ldG-",
        "colab_type": "code",
        "outputId": "39814978-4b95-4875-ade5-a3755a57e24b",
        "colab": {
          "base_uri": "https://localhost:8080/",
          "height": 170
        }
      },
      "source": [
        "from sklearn.linear_model import LogisticRegression\n",
        "from sklearn import metrics\n",
        "X_train, X_test, y_train, y_test = train_test_split(X, y, test_size=0.3, random_state=0)\n",
        "logreg = LogisticRegression()\n",
        "logreg.fit(X_train, y_train)\n",
        "\n",
        "y_pred = logreg.predict(X_test)\n",
        "print('Accuracy of logistic regression classifier on test set: {:.2f}'.format(logreg.score(X_test, y_test)))"
      ],
      "execution_count": 0,
      "outputs": [
        {
          "output_type": "stream",
          "text": [
            "Accuracy of logistic regression classifier on test set: 0.76\n"
          ],
          "name": "stdout"
        },
        {
          "output_type": "stream",
          "text": [
            "/usr/local/lib/python3.6/dist-packages/sklearn/linear_model/_logistic.py:940: ConvergenceWarning: lbfgs failed to converge (status=1):\n",
            "STOP: TOTAL NO. of ITERATIONS REACHED LIMIT.\n",
            "\n",
            "Increase the number of iterations (max_iter) or scale the data as shown in:\n",
            "    https://scikit-learn.org/stable/modules/preprocessing.html\n",
            "Please also refer to the documentation for alternative solver options:\n",
            "    https://scikit-learn.org/stable/modules/linear_model.html#logistic-regression\n",
            "  extra_warning_msg=_LOGISTIC_SOLVER_CONVERGENCE_MSG)\n"
          ],
          "name": "stderr"
        }
      ]
    },
    {
      "cell_type": "code",
      "metadata": {
        "id": "PtEzxMPwlzQw",
        "colab_type": "code",
        "outputId": "20ff5a10-045e-4823-c5cf-451cfb998a10",
        "colab": {
          "base_uri": "https://localhost:8080/",
          "height": 170
        }
      },
      "source": [
        "from sklearn.metrics import classification_report\n",
        "print(classification_report(y_test, y_pred))"
      ],
      "execution_count": 0,
      "outputs": [
        {
          "output_type": "stream",
          "text": [
            "              precision    recall  f1-score   support\n",
            "\n",
            "           0       0.79      0.69      0.74      1064\n",
            "           1       0.74      0.82      0.78      1101\n",
            "\n",
            "    accuracy                           0.76      2165\n",
            "   macro avg       0.76      0.76      0.76      2165\n",
            "weighted avg       0.76      0.76      0.76      2165\n",
            "\n"
          ],
          "name": "stdout"
        }
      ]
    },
    {
      "cell_type": "code",
      "metadata": {
        "id": "PxftZuEFmGWQ",
        "colab_type": "code",
        "outputId": "4805926d-45c6-41a9-cab7-cb016f9652ce",
        "colab": {
          "base_uri": "https://localhost:8080/",
          "height": 301
        }
      },
      "source": [
        "from sklearn.metrics import roc_auc_score\n",
        "from sklearn.metrics import roc_curve\n",
        "logit_roc_auc = roc_auc_score(y_test, logreg.predict(X_test))\n",
        "fpr, tpr, thresholds = roc_curve(y_test, logreg.predict_proba(X_test)[:,1])\n",
        "plt.figure()\n",
        "plt.plot(fpr, tpr, label='Logistic Regression (area = %0.2f)' % logit_roc_auc)\n",
        "plt.plot([0, 1], [0, 1],'r--')\n",
        "plt.xlim([0.0, 1.0])\n",
        "plt.ylim([0.0, 1.05])\n",
        "plt.xlabel('False Positive Rate')\n",
        "plt.ylabel('True Positive Rate')\n",
        "plt.title('Receiver operating characteristic')\n",
        "plt.legend(loc=\"lower right\")\n",
        "plt.savefig('Log_ROC')\n",
        "plt.show()"
      ],
      "execution_count": 0,
      "outputs": [
        {
          "output_type": "display_data",
          "data": {
            "image/png": "[encoded data removed]",
            "text/plain": [
              "<Figure size 432x288 with 1 Axes>"
            ]
          },
          "metadata": {
            "tags": []
          }
        }
      ]
    }
  ]
}