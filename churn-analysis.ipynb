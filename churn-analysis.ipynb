{
  "nbformat": 4,
  "nbformat_minor": 0,
  "metadata": {
    "colab": {
      "name": "Untitled3.ipynb",
      "provenance": [],
      "collapsed_sections": [],
      "toc_visible": true,
      "authorship_tag": "ABX9TyNJnU8vgBPXkP6w+pCy+s20",
      "include_colab_link": true
    },
    "kernelspec": {
      "name": "python3",
      "display_name": "Python 3"
    }
  },
  "cells": [
    {
      "cell_type": "markdown",
      "metadata": {
        "id": "view-in-github",
        "colab_type": "text"
      },
      "source": [
        "<a href=\"https://colab.research.google.com/github/furkanuyanik/churn-analysis/blob/master/churn-analysis.ipynb\" target=\"_parent\"><img src=\"https://colab.research.google.com/assets/colab-badge.svg\" alt=\"Open In Colab\"/></a>"
      ]
    },
    {
      "cell_type": "code",
      "metadata": {
        "id": "P7rXex8pUa1y",
        "colab_type": "code",
        "colab": {}
      },
      "source": [
        "import pandas as pd\n",
        "import numpy as np"
      ],
      "execution_count": 0,
      "outputs": []
    },
    {
      "cell_type": "code",
      "metadata": {
        "id": "2gVn0ApcVKuh",
        "colab_type": "code",
        "colab": {
          "base_uri": "https://localhost:8080/",
          "height": 68
        },
        "outputId": "d6043b2d-61be-428a-ab5b-70789416529a"
      },
      "source": [
        "df = pd.read_csv(\"./churn.csv\")\n",
        "\n",
        "for item in df.columns:\n",
        "    try:\n",
        "        df[item] = df[item].str.lower()\n",
        "    except:\n",
        "        print(item, \"couldn't convert\")\n",
        "\n",
        "columns_to_convert = ['Partner', \n",
        "                      'Dependents', \n",
        "                      'PhoneService', \n",
        "                      'PaperlessBilling', \n",
        "                      'Churn']\n",
        "\n",
        "for item in columns_to_convert:\n",
        "    df[item].replace(to_replace='yes', value=1, inplace=True)\n",
        "    df[item].replace(to_replace='no',  value=0, inplace=True)\n",
        "\n",
        "df['TotalCharges'] = df['TotalCharges'].replace(r'\\s+', np.nan, regex=True)\n",
        "df['TotalCharges'] = pd.to_numeric(df['TotalCharges'])\n",
        "\n",
        "churners = (df[df['Churn'] == 1])\n",
        "churners_count = len(churners)\n",
        "\n",
        "## Churn datası kadar Churn olmayan datası elde et.\n",
        "non_churners = df[df['Churn'] == 0].sample(n=churners_count)\n",
        "\n",
        "df2 = churners.append(non_churners)\n",
        "\n",
        "try:\n",
        "    customer_id = df2['customerID']\n",
        "    del df2['customerID']\n",
        "except:\n",
        "    print(\"already removed customerID\")\n",
        "\n",
        "ml_dummies = pd.get_dummies(df2)\n",
        "ml_dummies.fillna(value=0, inplace=True)\n",
        "\n",
        "X = ml_dummies.iloc[:,0:5]  #independent columns\n",
        "y = ml_dummies.iloc[:,-1]    #target column i.e price range"
      ],
      "execution_count": 17,
      "outputs": [
        {
          "output_type": "stream",
          "text": [
            "SeniorCitizen couldn't convert\n",
            "tenure couldn't convert\n",
            "MonthlyCharges couldn't convert\n"
          ],
          "name": "stdout"
        }
      ]
    },
    {
      "cell_type": "code",
      "metadata": {
        "id": "8Nk_k5lKVMLX",
        "colab_type": "code",
        "colab": {
          "base_uri": "https://localhost:8080/",
          "height": 282
        },
        "outputId": "1d466902-fcb0-47bd-fa43-0fe300de5b3d"
      },
      "source": [
        "from sklearn.ensemble import ExtraTreesClassifier\n",
        "import matplotlib.pyplot as plt\n",
        "\n",
        "model = ExtraTreesClassifier()\n",
        "model.fit(X,y)\n",
        "\n",
        "print(model.feature_importances_) #use inbuilt class feature_importances of tree based classifiers\n",
        "\n",
        "#plot graph of feature importances for better visualization\n",
        "feat_importances = pd.Series(model.feature_importances_, index=X.columns)\n",
        "feat_importances.nlargest(10).plot(kind='barh')\n",
        "\n",
        "plt.show()"
      ],
      "execution_count": 18,
      "outputs": [
        {
          "output_type": "stream",
          "text": [
            "[0.10938052 0.0469087  0.04111996 0.77681274 0.02577808]\n"
          ],
          "name": "stdout"
        },
        {
          "output_type": "display_data",
          "data": {
            "image/png": "[encoded data removed]",
            "text/plain": [
              "<Figure size 432x288 with 1 Axes>"
            ]
          },
          "metadata": {
            "tags": []
          }
        }
      ]
    }
  ]
}